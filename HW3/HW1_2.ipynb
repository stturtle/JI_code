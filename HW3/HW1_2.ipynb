{
  "nbformat": 4,
  "nbformat_minor": 0,
  "metadata": {
    "colab": {
      "name": "HW1_2.ipynb",
      "version": "0.3.2",
      "provenance": [],
      "collapsed_sections": []
    },
    "language_info": {
      "codemirror_mode": {
        "name": "ipython",
        "version": 3
      },
      "file_extension": ".py",
      "mimetype": "text/x-python",
      "name": "python",
      "nbconvert_exporter": "python",
      "pygments_lexer": "ipython3",
      "version": "3.7.3"
    },
    "kernelspec": {
      "name": "python3",
      "display_name": "Python 3"
    },
    "accelerator": "GPU"
  },
  "cells": [
    {
      "cell_type": "code",
      "metadata": {
        "id": "8hWkGgtG8PqR",
        "colab_type": "code",
        "colab": {}
      },
      "source": [
        "\"\"\"(1)Import the Fashion MNIST dataset...\"\"\"\n",
        "\n",
        "#from __future__ import absolute_import, division, print_function, unicode_literals,os\n",
        "\n",
        "# TensorFlow and tf.keras\n",
        "import tensorflow as tf\n",
        "from tensorflow import keras\n",
        "\n",
        "# Helper libraries\n",
        "import numpy as np\n",
        "import matplotlib.pyplot as plt\n",
        "import os\n",
        "\n",
        "fashion_mnist = keras.datasets.fashion_mnist\n",
        "\n",
        "(train_images, train_labels), (test_images, test_labels) = fashion_mnist.load_data()\n",
        "\n",
        "class_names = ['T-shirt/top', 'Trouser', 'Pullover', 'Dress', 'Coat',\n",
        "             'Sandal', 'Shirt', 'Sneaker', 'Bag', 'Ankle boot']"
      ],
      "execution_count": 0,
      "outputs": []
    },
    {
      "cell_type": "code",
      "metadata": {
        "id": "Qhdn5AbD8PqU",
        "colab_type": "code",
        "outputId": "d851702e-0eb7-40b3-bc89-499f722edd95",
        "colab": {
          "base_uri": "https://localhost:8080/",
          "height": 84
        }
      },
      "source": [
        "\"\"\"(2) Explore the data...\"\"\"\n",
        "\n",
        "train_images.shape\n",
        "len(train_labels)\n",
        "train_labels\n",
        "test_images.shape\n",
        "len(test_labels)\n",
        "train_images_M = np.expand_dims(train_images, -1)\n",
        "test_images_M = np.expand_dims(test_images, -1)\n",
        "print(\"Num of figures: {:d}\".format(train_labels.shape[0]))\n",
        "print(\"Size of figure: {:d}x{:d}\".format(train_images_M.shape[1], train_images_M.shape[2]))\n",
        "print(\"Num of figures: {:d}\".format(test_labels.shape[0]))\n",
        "print(\"Size of figure: {:d}x{:d}\".format(test_images_M.shape[1], test_images_M.shape[2]))"
      ],
      "execution_count": 0,
      "outputs": [
        {
          "output_type": "stream",
          "text": [
            "Num of figures: 60000\n",
            "Size of figure: 28x28\n",
            "Num of figures: 10000\n",
            "Size of figure: 28x28\n"
          ],
          "name": "stdout"
        }
      ]
    },
    {
      "cell_type": "code",
      "metadata": {
        "id": "Yc4plQnX8PqY",
        "colab_type": "code",
        "outputId": "6ba6ccb1-9038-4b5d-df47-03be71f08254",
        "colab": {
          "base_uri": "https://localhost:8080/",
          "height": 269
        }
      },
      "source": [
        "\"\"\"Preprocess the data...\"\"\"\n",
        "\n",
        "# Inspect a image in trainging set\n",
        "plt.figure()\n",
        "plt.imshow(test_images[2])\n",
        "plt.colorbar()\n",
        "plt.grid(False)\n",
        "plt.show()\n",
        "\n",
        "# Scale these values by dividing them by 255\n",
        "train_images = train_images / 255.0\n",
        "test_images = test_images / 255.0"
      ],
      "execution_count": 0,
      "outputs": [
        {
          "output_type": "display_data",
          "data": {
            "image/png": "[encoded data removed]",
            "text/plain": [
              "<Figure size 432x288 with 2 Axes>"
            ]
          },
          "metadata": {
            "tags": []
          }
        }
      ]
    },
    {
      "cell_type": "code",
      "metadata": {
        "id": "kD6LbkCd8Pqb",
        "colab_type": "code",
        "outputId": "940348c7-646b-4651-b1dc-2ca4a89be682",
        "colab": {
          "base_uri": "https://localhost:8080/",
          "height": 776
        }
      },
      "source": [
        "\"\"\"(3) Setup necessary layers...\"\"\"\n",
        "\n",
        "batch_size = 128\n",
        "nb_classes = 10\n",
        "nb_epoch = 10\n",
        "\n",
        "# input image dimensions\n",
        "img_rows, img_cols = 28, 28\n",
        "# number of convolutional filters to use\n",
        "nb_filters = 32\n",
        "# size of pooling area for max pooling\n",
        "pool_size = (2,2)\n",
        "# convolution kernel size\n",
        "kernel_size = (3,3)\n",
        "\n",
        "model = tf.keras.models.Sequential()\n",
        "\n",
        "model.add(tf.keras.layers.BatchNormalization(input_shape=train_images_M.shape[1:]))\n",
        "model.add(tf.keras.layers.Conv2D(nb_filters,kernel_size, padding='same', activation='relu'))\n",
        "\n",
        "model.add(tf.keras.layers.BatchNormalization(input_shape=train_images_M.shape[1:]))\n",
        "model.add(tf.keras.layers.Conv2D(2*nb_filters,kernel_size, padding='same', activation='relu'))\n",
        "model.add(tf.keras.layers.MaxPooling2D(pool_size=(2, 2)))\n",
        "model.add(tf.keras.layers.Dropout(0.25))\n",
        "\n",
        "model.add(tf.keras.layers.BatchNormalization(input_shape=train_images_M.shape[1:]))\n",
        "model.add(tf.keras.layers.Conv2D(3*nb_filters,kernel_size, padding='same', activation='relu'))\n",
        "model.add(tf.keras.layers.MaxPooling2D(pool_size=pool_size, strides=pool_size))\n",
        "model.add(tf.keras.layers.Dropout(0.25))\n",
        "\n",
        "model.add(tf.keras.layers.Flatten())\n",
        "model.add(tf.keras.layers.Dense(128))\n",
        "model.add(tf.keras.layers.Activation('elu'))\n",
        "model.add(tf.keras.layers.Dropout(0.5))\n",
        "model.add(tf.keras.layers.Dense(nb_classes))\n",
        "model.add(tf.keras.layers.Activation('softmax'))\n",
        "\n",
        "model.summary()"
      ],
      "execution_count": 0,
      "outputs": [
        {
          "output_type": "stream",
          "text": [
            "WARNING: Logging before flag parsing goes to stderr.\n",
            "W0704 12:24:18.423729 140110382868352 deprecation.py:506] From /usr/local/lib/python3.6/dist-packages/tensorflow/python/ops/init_ops.py:1251: calling VarianceScaling.__init__ (from tensorflow.python.ops.init_ops) with dtype is deprecated and will be removed in a future version.\n",
            "Instructions for updating:\n",
            "Call initializer instance with the dtype argument instead of passing it to the constructor\n"
          ],
          "name": "stderr"
        },
        {
          "output_type": "stream",
          "text": [
            "Model: \"sequential\"\n",
            "_________________________________________________________________\n",
            "Layer (type)                 Output Shape              Param #   \n",
            "=================================================================\n",
            "batch_normalization (BatchNo (None, 28, 28, 1)         4         \n",
            "_________________________________________________________________\n",
            "conv2d (Conv2D)              (None, 28, 28, 32)        320       \n",
            "_________________________________________________________________\n",
            "batch_normalization_1 (Batch (None, 28, 28, 32)        128       \n",
            "_________________________________________________________________\n",
            "conv2d_1 (Conv2D)            (None, 28, 28, 64)        18496     \n",
            "_________________________________________________________________\n",
            "max_pooling2d (MaxPooling2D) (None, 14, 14, 64)        0         \n",
            "_________________________________________________________________\n",
            "dropout (Dropout)            (None, 14, 14, 64)        0         \n",
            "_________________________________________________________________\n",
            "batch_normalization_2 (Batch (None, 14, 14, 64)        256       \n",
            "_________________________________________________________________\n",
            "conv2d_2 (Conv2D)            (None, 14, 14, 96)        55392     \n",
            "_________________________________________________________________\n",
            "max_pooling2d_1 (MaxPooling2 (None, 7, 7, 96)          0         \n",
            "_________________________________________________________________\n",
            "dropout_1 (Dropout)          (None, 7, 7, 96)          0         \n",
            "_________________________________________________________________\n",
            "flatten (Flatten)            (None, 4704)              0         \n",
            "_________________________________________________________________\n",
            "dense (Dense)                (None, 128)               602240    \n",
            "_________________________________________________________________\n",
            "activation (Activation)      (None, 128)               0         \n",
            "_________________________________________________________________\n",
            "dropout_2 (Dropout)          (None, 128)               0         \n",
            "_________________________________________________________________\n",
            "dense_1 (Dense)              (None, 10)                1290      \n",
            "_________________________________________________________________\n",
            "activation_1 (Activation)    (None, 10)                0         \n",
            "=================================================================\n",
            "Total params: 678,126\n",
            "Trainable params: 677,932\n",
            "Non-trainable params: 194\n",
            "_________________________________________________________________\n"
          ],
          "name": "stdout"
        }
      ]
    },
    {
      "cell_type": "code",
      "metadata": {
        "id": "gaCLSbW-8Pqe",
        "colab_type": "code",
        "colab": {}
      },
      "source": [
        "\"\"\"(4) Compile the model...\"\"\"\n",
        "\n",
        "model.compile(optimizer='adam',\n",
        "              loss='sparse_categorical_crossentropy',\n",
        "              metrics=['accuracy'])"
      ],
      "execution_count": 0,
      "outputs": []
    },
    {
      "cell_type": "code",
      "metadata": {
        "id": "hAny8sOe8Pqh",
        "colab_type": "code",
        "outputId": "75bd6fe6-e671-44e2-d885-558dfbfcd20d",
        "colab": {
          "base_uri": "https://localhost:8080/",
          "height": 370
        }
      },
      "source": [
        "\"\"\"(5) Train the model...\"\"\"\n",
        "\n",
        "model.fit(train_images_M, train_labels, epochs=nb_epoch)"
      ],
      "execution_count": 0,
      "outputs": [
        {
          "output_type": "stream",
          "text": [
            "Epoch 1/10\n",
            "60000/60000 [==============================] - 23s 384us/sample - loss: 0.5938 - acc: 0.7970\n",
            "Epoch 2/10\n",
            "60000/60000 [==============================] - 22s 366us/sample - loss: 0.3286 - acc: 0.8813\n",
            "Epoch 3/10\n",
            "60000/60000 [==============================] - 22s 366us/sample - loss: 0.2843 - acc: 0.8982\n",
            "Epoch 4/10\n",
            "60000/60000 [==============================] - 22s 372us/sample - loss: 0.2618 - acc: 0.9056\n",
            "Epoch 5/10\n",
            "60000/60000 [==============================] - 22s 364us/sample - loss: 0.2460 - acc: 0.9104\n",
            "Epoch 6/10\n",
            "60000/60000 [==============================] - 22s 365us/sample - loss: 0.2334 - acc: 0.9153\n",
            "Epoch 7/10\n",
            "60000/60000 [==============================] - 22s 363us/sample - loss: 0.2206 - acc: 0.9192\n",
            "Epoch 8/10\n",
            "60000/60000 [==============================] - 22s 366us/sample - loss: 0.2127 - acc: 0.9228\n",
            "Epoch 9/10\n",
            "60000/60000 [==============================] - 22s 364us/sample - loss: 0.1999 - acc: 0.9273\n",
            "Epoch 10/10\n",
            "60000/60000 [==============================] - 22s 362us/sample - loss: 0.1915 - acc: 0.9308\n"
          ],
          "name": "stdout"
        },
        {
          "output_type": "execute_result",
          "data": {
            "text/plain": [
              "<tensorflow.python.keras.callbacks.History at 0x7f6db0af5470>"
            ]
          },
          "metadata": {
            "tags": []
          },
          "execution_count": 6
        }
      ]
    },
    {
      "cell_type": "code",
      "metadata": {
        "id": "p_C-vZs48Pqj",
        "colab_type": "code",
        "outputId": "7093ff0d-921b-4470-89bc-5408c7f85101",
        "colab": {
          "base_uri": "https://localhost:8080/",
          "height": 50
        }
      },
      "source": [
        "\"\"\"(6) Evaluate the performance...\"\"\"\n",
        "\n",
        "test_loss, test_acc = model.evaluate(test_images_M, test_labels)# compare how the model performs on the test dataset\n",
        "print('Test accuracy:', test_acc)"
      ],
      "execution_count": 0,
      "outputs": [
        {
          "output_type": "stream",
          "text": [
            "10000/10000 [==============================] - 2s 164us/sample - loss: 0.2171 - acc: 0.9264\n",
            "Test accuracy: 0.9264\n"
          ],
          "name": "stdout"
        }
      ]
    },
    {
      "cell_type": "code",
      "metadata": {
        "id": "4ku-MCtb8Pqm",
        "colab_type": "code",
        "outputId": "002850f7-7cd9-45f5-db8e-319d13a8b26b",
        "colab": {
          "base_uri": "https://localhost:8080/",
          "height": 1000
        }
      },
      "source": [
        "\"\"\"Make prediction...\"\"\"\n",
        "\n",
        "predictions = model.predict(test_images_M) # Use the trained model to make predictions about some images\n",
        "\n",
        "# Graph this to look at the full set of 10 class predictions\n",
        "def plot_image(i, predictions_array, true_label, img):\n",
        "  predictions_array, true_label, img = predictions_array[i], true_label[i], img[i]\n",
        "  plt.grid(False)\n",
        "  plt.xticks([])\n",
        "  plt.yticks([])\n",
        "  \n",
        "  plt.imshow(img, cmap=plt.cm.binary)\n",
        "  \n",
        "  predicted_label = np.argmax(predictions_array)\n",
        "  if predicted_label == true_label:\n",
        "    color = 'blue'\n",
        "  else:\n",
        "    color = 'red'\n",
        "  \n",
        "  plt.xlabel(\"{} {:2.0f}% ({})\".format(class_names[predicted_label],\n",
        "                                100*np.max(predictions_array),\n",
        "                                class_names[true_label]),\n",
        "                                color=color)\n",
        "\n",
        "def plot_value_array(i, predictions_array, true_label):\n",
        "  predictions_array, true_label = predictions_array[i], true_label[i]\n",
        "  plt.grid(False)\n",
        "  plt.xticks([])\n",
        "  plt.yticks([])\n",
        "  thisplot = plt.bar(range(10), predictions_array, color=\"#777777\")\n",
        "  plt.ylim([0, 1])\n",
        "  predicted_label = np.argmax(predictions_array)\n",
        "  \n",
        "  thisplot[predicted_label].set_color('red')\n",
        "  thisplot[true_label].set_color('blue')\n",
        "  \n",
        "# Plot 10 randomly selected testing images, their predicted label, and the true label\n",
        "# Color correct predictions in blue, incorrect predictions in red\n",
        "a = np.random.randint(0, len(test_labels), 10)\n",
        "print('a=',a) \n",
        "for i in range(0,10):\n",
        "  b = a[i]\n",
        "  plt.figure(figsize=(6, 3))\n",
        "  plt.subplot(1, 2, 1)\n",
        "  plot_image(i, predictions, test_labels, test_images)\n",
        "  plt.subplot(1, 2, 2)\n",
        "  plot_value_array(i, predictions, test_labels)\n",
        "plt.show()"
      ],
      "execution_count": 0,
      "outputs": [
        {
          "output_type": "stream",
          "text": [
            "a= [5058 2768 4768 4276 6954 1162 2432 4260 4428 9921]\n"
          ],
          "name": "stdout"
        },
        {
          "output_type": "display_data",
          "data": {
            "image/png": "[encoded data removed]",
            "text/plain": [
              "<Figure size 432x216 with 2 Axes>"
            ]
          },
          "metadata": {
            "tags": []
          }
        },
        {
          "output_type": "display_data",
          "data": {
            "image/png": "[encoded data removed]",
            "text/plain": [
              "<Figure size 432x216 with 2 Axes>"
            ]
          },
          "metadata": {
            "tags": []
          }
        },
        {
          "output_type": "display_data",
          "data": {
            "image/png": "[encoded data removed]",
            "text/plain": [
              "<Figure size 432x216 with 2 Axes>"
            ]
          },
          "metadata": {
            "tags": []
          }
        },
        {
          "output_type": "display_data",
          "data": {
            "image/png": "[encoded data removed]",
            "text/plain": [
              "<Figure size 432x216 with 2 Axes>"
            ]
          },
          "metadata": {
            "tags": []
          }
        },
        {
          "output_type": "display_data",
          "data": {
            "image/png": "[encoded data removed]",
            "text/plain": [
              "<Figure size 432x216 with 2 Axes>"
            ]
          },
          "metadata": {
            "tags": []
          }
        },
        {
          "output_type": "display_data",
          "data": {
            "image/png": "[encoded data removed]",
            "text/plain": [
              "<Figure size 432x216 with 2 Axes>"
            ]
          },
          "metadata": {
            "tags": []
          }
        },
        {
          "output_type": "display_data",
          "data": {
            "image/png": "[encoded data removed]",
            "text/plain": [
              "<Figure size 432x216 with 2 Axes>"
            ]
          },
          "metadata": {
            "tags": []
          }
        },
        {
          "output_type": "display_data",
          "data": {
            "image/png": "[encoded data removed]",
            "text/plain": [
              "<Figure size 432x216 with 2 Axes>"
            ]
          },
          "metadata": {
            "tags": []
          }
        },
        {
          "output_type": "display_data",
          "data": {
            "image/png": "[encoded data removed]",
            "text/plain": [
              "<Figure size 432x216 with 2 Axes>"
            ]
          },
          "metadata": {
            "tags": []
          }
        },
        {
          "output_type": "display_data",
          "data": {
            "image/png": "[encoded data removed]",
            "text/plain": [
              "<Figure size 432x216 with 2 Axes>"
            ]
          },
          "metadata": {
            "tags": []
          }
        }
      ]
    },
    {
      "cell_type": "code",
      "metadata": {
        "id": "te65dnaZ8Pqo",
        "colab_type": "code",
        "outputId": "88ddab0c-d504-4ae4-828c-f2fdaa423439",
        "colab": {
          "base_uri": "https://localhost:8080/",
          "height": 634
        }
      },
      "source": [
        "\"\"\"(7)Apply error analysis...\"\"\"\n",
        "\n",
        "print('x的大小为:', train_images.shape, '\\n','y的大小为：', test_images.shape)\n",
        "train_images_RE = train_images.reshape([60000,784])\n",
        "test_images_RE = test_images.reshape([10000,784])\n",
        "print('x的大小为:', train_images_RE.shape, '\\n','y的大小为：', test_images_RE.shape)\n",
        "\n",
        "train_labels_Sandal = (train_labels == 'Sandal')\n",
        "\n",
        "from sklearn.linear_model import SGDClassifier\n",
        "\n",
        "sgd_clf = SGDClassifier(max_iter=5, tol=-np.infty, random_state=42)\n",
        "sgd_clf.fit(train_images_RE, train_labels)\n",
        "\n",
        "from sklearn.model_selection import cross_val_predict\n",
        "train_label_pred = cross_val_predict(sgd_clf, train_images_RE, train_labels, cv=3)\n",
        "\n",
        "from sklearn.metrics import confusion_matrix\n",
        "conf_mx = confusion_matrix(train_labels, train_label_pred)\n",
        "\n",
        "def plot_confusion_matrix(matrix):\n",
        "    \"\"\"If you prefer color and a colorbar\"\"\"\n",
        "    fig = plt.figure(figsize=(8,8))\n",
        "    ax = fig.add_subplot(111)\n",
        "    cax = ax.matshow(matrix)\n",
        "    fig.colorbar(cax)\n",
        "\n",
        "plt.matshow(conf_mx, cmap=plt.cm.gray)\n",
        "plt.show()\n",
        "\n",
        "row_sums = conf_mx.sum(axis=1, keepdims=True)\n",
        "norm_conf_mx = conf_mx / row_sums\n",
        "\n",
        "np.fill_diagonal(norm_conf_mx, 0)\n",
        "plt.matshow(norm_conf_mx, cmap=plt.cm.gray)\n",
        "plt.show()"
      ],
      "execution_count": 0,
      "outputs": [
        {
          "output_type": "stream",
          "text": [
            "x的大小为: (60000, 28, 28) \n",
            " y的大小为： (10000, 28, 28)\n",
            "x的大小为: (60000, 784) \n",
            " y的大小为： (10000, 784)\n"
          ],
          "name": "stdout"
        },
        {
          "output_type": "stream",
          "text": [
            "/usr/local/lib/python3.6/dist-packages/ipykernel_launcher.py:8: FutureWarning: elementwise comparison failed; returning scalar instead, but in the future will perform elementwise comparison\n",
            "  \n"
          ],
          "name": "stderr"
        },
        {
          "output_type": "display_data",
          "data": {
            "image/png": "[encoded data removed]",
            "text/plain": [
              "<Figure size 288x288 with 1 Axes>"
            ]
          },
          "metadata": {
            "tags": []
          }
        },
        {
          "output_type": "display_data",
          "data": {
            "image/png": "[encoded data removed]",
            "text/plain": [
              "<Figure size 288x288 with 1 Axes>"
            ]
          },
          "metadata": {
            "tags": []
          }
        }
      ]
    }
  ]
}